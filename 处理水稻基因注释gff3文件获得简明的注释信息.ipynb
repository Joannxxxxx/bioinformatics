{
 "cells": [
  {
   "cell_type": "code",
   "execution_count": 1,
   "metadata": {},
   "outputs": [],
   "source": [
    "import pandas as pd\n",
    "import numpy as np"
   ]
  },
  {
   "cell_type": "code",
   "execution_count": 2,
   "metadata": {},
   "outputs": [],
   "source": [
    "# 设定工作目录，以斜杠结尾\n",
    "# wd = \"/your/working/directory\"\n",
    "wd = \"/Users/sherlock/Documents/bioinformatics/gwas2hap/database/Oryzadb/\""
   ]
  },
  {
   "cell_type": "code",
   "execution_count": 3,
   "metadata": {},
   "outputs": [],
   "source": [
    "# 获得只对基因进行注释的文件（不含 CDS 等）\n",
    "filepath = wd + \"Oryza_sativa.geneonly.gff3\"\n",
    "osa_gene_gff3 = pd.read_csv(filepath,header=None,sep=\"\\t\")"
   ]
  },
  {
   "cell_type": "code",
   "execution_count": 4,
   "metadata": {},
   "outputs": [
    {
     "name": "stdout",
     "output_type": "stream",
     "text": [
      "   0              1     2      3      4  5  6  7  \\\n",
      "0  1  RAP2018-11-26  gene   2983  10815  .  +  .   \n",
      "1  1  RAP2018-11-26  gene  11218  12435  .  +  .   \n",
      "2  1  RAP2018-11-26  gene  11372  12284  .  -  .   \n",
      "3  1  RAP2018-11-26  gene  12721  15685  .  +  .   \n",
      "4  1  RAP2018-11-26  gene  12808  13978  .  -  .   \n",
      "\n",
      "                                                   8  \n",
      "0  ID=gene:Os01g0100100;biotype=protein_coding;de...  \n",
      "1  ID=gene:Os01g0100200;biotype=protein_coding;de...  \n",
      "2  ID=gene:Os01g0100300;biotype=protein_coding;de...  \n",
      "3  ID=gene:Os01g0100400;biotype=protein_coding;de...  \n",
      "4  ID=gene:Os01g0100466;biotype=protein_coding;de...   \n",
      "\n",
      " shape: (37852, 9)\n"
     ]
    }
   ],
   "source": [
    "print(osa_gene_gff3.head(),\"\\n\\n\",\"shape:\",osa_gene_gff3.shape)"
   ]
  },
  {
   "cell_type": "code",
   "execution_count": 5,
   "metadata": {},
   "outputs": [
    {
     "name": "stdout",
     "output_type": "stream",
     "text": [
      "ID=gene:Os01g0100100;biotype=protein_coding;description=RabGAP/TBC domain containing protein;gene_id=Os01g0100100;logic_name=rapdb_genes \n",
      "\n",
      " ID=gene:Os01g0111900;Name=SIP34;biotype=protein_coding;description=Glutelin family protein;gene_id=Os01g0111900;logic_name=rapdb_genes\n"
     ]
    }
   ],
   "source": [
    "# 我需要的基因注释信息都来自第 8 列，但第 8 列的格式并不规整，比如有的基因有 Name 有的却没有\n",
    "# 以其中两行为例，可以看出直接用分号分隔无法对齐\n",
    "print(osa_gene_gff3.iloc[0,8],\"\\n\\n\",osa_gene_gff3.iloc[100,8])"
   ]
  },
  {
   "cell_type": "code",
   "execution_count": 6,
   "metadata": {},
   "outputs": [],
   "source": [
    "# 第 8 列共有 6 个 Key，分别是：ID=gene，Name，biotype，description，gene_id，logic_name\n",
    "# 我只需要前 4 个 Key，后面两个 Key 冗余或无关紧要\n",
    "# 思路是把 8 列里的每个部分拆成 key 列和 value 列，然后查看 key 列里真实的 key 值，把 key 值相符和不相符的分门别类，整理后再合并"
   ]
  },
  {
   "cell_type": "code",
   "execution_count": 7,
   "metadata": {},
   "outputs": [
    {
     "data": {
      "text/html": [
       "<div>\n",
       "<style scoped>\n",
       "    .dataframe tbody tr th:only-of-type {\n",
       "        vertical-align: middle;\n",
       "    }\n",
       "\n",
       "    .dataframe tbody tr th {\n",
       "        vertical-align: top;\n",
       "    }\n",
       "\n",
       "    .dataframe thead th {\n",
       "        text-align: right;\n",
       "    }\n",
       "</style>\n",
       "<table border=\"1\" class=\"dataframe\">\n",
       "  <thead>\n",
       "    <tr style=\"text-align: right;\">\n",
       "      <th></th>\n",
       "      <th>0</th>\n",
       "      <th>1</th>\n",
       "      <th>2</th>\n",
       "      <th>3</th>\n",
       "      <th>4</th>\n",
       "      <th>5</th>\n",
       "    </tr>\n",
       "  </thead>\n",
       "  <tbody>\n",
       "    <tr>\n",
       "      <th>0</th>\n",
       "      <td>ID=gene:Os01g0100100</td>\n",
       "      <td>biotype=protein_coding</td>\n",
       "      <td>description=RabGAP/TBC domain containing protein</td>\n",
       "      <td>gene_id=Os01g0100100</td>\n",
       "      <td>logic_name=rapdb_genes</td>\n",
       "      <td>None</td>\n",
       "    </tr>\n",
       "    <tr>\n",
       "      <th>1</th>\n",
       "      <td>ID=gene:Os01g0100200</td>\n",
       "      <td>biotype=protein_coding</td>\n",
       "      <td>description=Conserved hypothetical protein</td>\n",
       "      <td>gene_id=Os01g0100200</td>\n",
       "      <td>logic_name=rapdb_genes</td>\n",
       "      <td>None</td>\n",
       "    </tr>\n",
       "    <tr>\n",
       "      <th>2</th>\n",
       "      <td>ID=gene:Os01g0100300</td>\n",
       "      <td>biotype=protein_coding</td>\n",
       "      <td>description=Cytochrome P450 domain containing ...</td>\n",
       "      <td>gene_id=Os01g0100300</td>\n",
       "      <td>logic_name=rapdb_genes</td>\n",
       "      <td>None</td>\n",
       "    </tr>\n",
       "    <tr>\n",
       "      <th>3</th>\n",
       "      <td>ID=gene:Os01g0100400</td>\n",
       "      <td>biotype=protein_coding</td>\n",
       "      <td>description=Similar to Pectinesterase-like pro...</td>\n",
       "      <td>gene_id=Os01g0100400</td>\n",
       "      <td>logic_name=rapdb_genes</td>\n",
       "      <td>None</td>\n",
       "    </tr>\n",
       "    <tr>\n",
       "      <th>4</th>\n",
       "      <td>ID=gene:Os01g0100466</td>\n",
       "      <td>biotype=protein_coding</td>\n",
       "      <td>description=Hypothetical protein</td>\n",
       "      <td>gene_id=Os01g0100466</td>\n",
       "      <td>logic_name=rapdb_genes</td>\n",
       "      <td>None</td>\n",
       "    </tr>\n",
       "  </tbody>\n",
       "</table>\n",
       "</div>"
      ],
      "text/plain": [
       "                      0                       1  \\\n",
       "0  ID=gene:Os01g0100100  biotype=protein_coding   \n",
       "1  ID=gene:Os01g0100200  biotype=protein_coding   \n",
       "2  ID=gene:Os01g0100300  biotype=protein_coding   \n",
       "3  ID=gene:Os01g0100400  biotype=protein_coding   \n",
       "4  ID=gene:Os01g0100466  biotype=protein_coding   \n",
       "\n",
       "                                                   2                     3  \\\n",
       "0   description=RabGAP/TBC domain containing protein  gene_id=Os01g0100100   \n",
       "1         description=Conserved hypothetical protein  gene_id=Os01g0100200   \n",
       "2  description=Cytochrome P450 domain containing ...  gene_id=Os01g0100300   \n",
       "3  description=Similar to Pectinesterase-like pro...  gene_id=Os01g0100400   \n",
       "4                   description=Hypothetical protein  gene_id=Os01g0100466   \n",
       "\n",
       "                        4     5  \n",
       "0  logic_name=rapdb_genes  None  \n",
       "1  logic_name=rapdb_genes  None  \n",
       "2  logic_name=rapdb_genes  None  \n",
       "3  logic_name=rapdb_genes  None  \n",
       "4  logic_name=rapdb_genes  None  "
      ]
     },
     "execution_count": 7,
     "metadata": {},
     "output_type": "execute_result"
    }
   ],
   "source": [
    "# 获得第 8 列的注释信息\n",
    "gene_dsp = osa_gene_gff3[8].str.split(\";\",expand=True)\n",
    "gene_dsp.head()"
   ]
  },
  {
   "cell_type": "code",
   "execution_count": 8,
   "metadata": {},
   "outputs": [
    {
     "name": "stdout",
     "output_type": "stream",
     "text": [
      "  key_geneID  value_geneID\n",
      "0    ID=gene  Os01g0100100\n",
      "1    ID=gene  Os01g0100200\n",
      "2    ID=gene  Os01g0100300\n",
      "3    ID=gene  Os01g0100400\n",
      "4    ID=gene  Os01g0100466 \n",
      "\n",
      " value_counts: ID=gene    37852\n",
      "Name: key_geneID, dtype: int64\n"
     ]
    }
   ],
   "source": [
    "# 把注释信息里的第一部分 ID=gene 提取出来作为一个 df\n",
    "# 因为 ID=gene 分隔符是冒号，而其余部分分隔符是等号，因此单独拿出来处理，其余部分则可在下面的循环中完成\n",
    "geneID = gene_dsp[0].str.split(\":\",expand=True)\n",
    "geneID.columns = ['key_geneID','value_geneID']\n",
    "print(geneID.head(),\"\\n\\n\",\"value_counts:\",geneID[\"key_geneID\"].value_counts())"
   ]
  },
  {
   "cell_type": "code",
   "execution_count": 9,
   "metadata": {},
   "outputs": [
    {
     "name": "stdout",
     "output_type": "stream",
     "text": [
      "biotype    28134\n",
      "Name        9718\n",
      "Name: key_biotype, dtype: int64\n",
      "*******************************************************\n",
      "description    28023\n",
      "biotype         9718\n",
      "gene_id          111\n",
      "Name: key_dsp, dtype: int64\n",
      "*******************************************************\n",
      "gene_id        28023\n",
      "description     9718\n",
      "logic_name       111\n",
      "Name: key_geneid, dtype: int64\n",
      "*******************************************************\n"
     ]
    }
   ],
   "source": [
    "# 把注释信息里剩余部分一一提取出来作为 df \n",
    "df_list = [geneID]\n",
    "colnames = [\"geneID\",\"biotype\",\"dsp\",\"geneid\"]\n",
    "for i in range(1,len(colnames)):\n",
    "    df = gene_dsp[i].str.split(\"=\",expand=True)\n",
    "  \n",
    "    colname = colnames[i]\n",
    "#     print(colname)\n",
    "    colname_key = \"key_\" + colname\n",
    "    colname_value = \"value_\" + colname\n",
    "    df.columns = [colname_key,colname_value]\n",
    "#     print(df.head(2))\n",
    "    print(df[colname_key].value_counts())\n",
    "    print(\"***********\"*5)\n",
    "    \n",
    "    df_list.append(df) "
   ]
  },
  {
   "cell_type": "code",
   "execution_count": 10,
   "metadata": {},
   "outputs": [
    {
     "name": "stdout",
     "output_type": "stream",
     "text": [
      "  key_geneID  value_geneID key_biotype   value_biotype      key_dsp  \\\n",
      "0    ID=gene  Os01g0100100     biotype  protein_coding  description   \n",
      "1    ID=gene  Os01g0100200     biotype  protein_coding  description   \n",
      "2    ID=gene  Os01g0100300     biotype  protein_coding  description   \n",
      "3    ID=gene  Os01g0100400     biotype  protein_coding  description   \n",
      "4    ID=gene  Os01g0100466     biotype  protein_coding  description   \n",
      "\n",
      "                                   value_dsp key_geneid  value_geneid  \n",
      "0       RabGAP/TBC domain containing protein    gene_id  Os01g0100100  \n",
      "1             Conserved hypothetical protein    gene_id  Os01g0100200  \n",
      "2  Cytochrome P450 domain containing protein    gene_id  Os01g0100300  \n",
      "3     Similar to Pectinesterase-like protein    gene_id  Os01g0100400  \n",
      "4                       Hypothetical protein    gene_id  Os01g0100466   \n",
      "\n",
      " shape: (37852, 8)\n"
     ]
    }
   ],
   "source": [
    "# 将所有 df 合并\n",
    "gene_dsp_con = pd.concat(df_list,axis=1)\n",
    "print(gene_dsp_con.head(),\"\\n\\n\",\"shape:\",gene_dsp_con.shape)"
   ]
  },
  {
   "cell_type": "code",
   "execution_count": 11,
   "metadata": {},
   "outputs": [],
   "source": [
    "# 把 key 相符的提取出来作为 right，不相符的作为 left\n",
    "right = gene_dsp_con[gene_dsp_con[\"key_biotype\"] == \"biotype\"]\n",
    "left = gene_dsp_con[gene_dsp_con[\"key_biotype\"] == \"Name\"]"
   ]
  },
  {
   "cell_type": "code",
   "execution_count": 12,
   "metadata": {},
   "outputs": [
    {
     "data": {
      "text/html": [
       "<div>\n",
       "<style scoped>\n",
       "    .dataframe tbody tr th:only-of-type {\n",
       "        vertical-align: middle;\n",
       "    }\n",
       "\n",
       "    .dataframe tbody tr th {\n",
       "        vertical-align: top;\n",
       "    }\n",
       "\n",
       "    .dataframe thead th {\n",
       "        text-align: right;\n",
       "    }\n",
       "</style>\n",
       "<table border=\"1\" class=\"dataframe\">\n",
       "  <thead>\n",
       "    <tr style=\"text-align: right;\">\n",
       "      <th></th>\n",
       "      <th>key_geneID</th>\n",
       "      <th>value_geneID</th>\n",
       "      <th>key_biotype</th>\n",
       "      <th>value_biotype</th>\n",
       "      <th>key_dsp</th>\n",
       "      <th>value_dsp</th>\n",
       "      <th>key_geneid</th>\n",
       "      <th>value_geneid</th>\n",
       "    </tr>\n",
       "  </thead>\n",
       "  <tbody>\n",
       "    <tr>\n",
       "      <th>0</th>\n",
       "      <td>ID=gene</td>\n",
       "      <td>Os01g0100100</td>\n",
       "      <td>biotype</td>\n",
       "      <td>protein_coding</td>\n",
       "      <td>description</td>\n",
       "      <td>RabGAP/TBC domain containing protein</td>\n",
       "      <td>gene_id</td>\n",
       "      <td>Os01g0100100</td>\n",
       "    </tr>\n",
       "    <tr>\n",
       "      <th>1</th>\n",
       "      <td>ID=gene</td>\n",
       "      <td>Os01g0100200</td>\n",
       "      <td>biotype</td>\n",
       "      <td>protein_coding</td>\n",
       "      <td>description</td>\n",
       "      <td>Conserved hypothetical protein</td>\n",
       "      <td>gene_id</td>\n",
       "      <td>Os01g0100200</td>\n",
       "    </tr>\n",
       "    <tr>\n",
       "      <th>2</th>\n",
       "      <td>ID=gene</td>\n",
       "      <td>Os01g0100300</td>\n",
       "      <td>biotype</td>\n",
       "      <td>protein_coding</td>\n",
       "      <td>description</td>\n",
       "      <td>Cytochrome P450 domain containing protein</td>\n",
       "      <td>gene_id</td>\n",
       "      <td>Os01g0100300</td>\n",
       "    </tr>\n",
       "    <tr>\n",
       "      <th>3</th>\n",
       "      <td>ID=gene</td>\n",
       "      <td>Os01g0100400</td>\n",
       "      <td>biotype</td>\n",
       "      <td>protein_coding</td>\n",
       "      <td>description</td>\n",
       "      <td>Similar to Pectinesterase-like protein</td>\n",
       "      <td>gene_id</td>\n",
       "      <td>Os01g0100400</td>\n",
       "    </tr>\n",
       "    <tr>\n",
       "      <th>4</th>\n",
       "      <td>ID=gene</td>\n",
       "      <td>Os01g0100466</td>\n",
       "      <td>biotype</td>\n",
       "      <td>protein_coding</td>\n",
       "      <td>description</td>\n",
       "      <td>Hypothetical protein</td>\n",
       "      <td>gene_id</td>\n",
       "      <td>Os01g0100466</td>\n",
       "    </tr>\n",
       "  </tbody>\n",
       "</table>\n",
       "</div>"
      ],
      "text/plain": [
       "  key_geneID  value_geneID key_biotype   value_biotype      key_dsp  \\\n",
       "0    ID=gene  Os01g0100100     biotype  protein_coding  description   \n",
       "1    ID=gene  Os01g0100200     biotype  protein_coding  description   \n",
       "2    ID=gene  Os01g0100300     biotype  protein_coding  description   \n",
       "3    ID=gene  Os01g0100400     biotype  protein_coding  description   \n",
       "4    ID=gene  Os01g0100466     biotype  protein_coding  description   \n",
       "\n",
       "                                   value_dsp key_geneid  value_geneid  \n",
       "0       RabGAP/TBC domain containing protein    gene_id  Os01g0100100  \n",
       "1             Conserved hypothetical protein    gene_id  Os01g0100200  \n",
       "2  Cytochrome P450 domain containing protein    gene_id  Os01g0100300  \n",
       "3     Similar to Pectinesterase-like protein    gene_id  Os01g0100400  \n",
       "4                       Hypothetical protein    gene_id  Os01g0100466  "
      ]
     },
     "execution_count": 12,
     "metadata": {},
     "output_type": "execute_result"
    }
   ],
   "source": [
    "right.head()"
   ]
  },
  {
   "cell_type": "code",
   "execution_count": 13,
   "metadata": {},
   "outputs": [
    {
     "data": {
      "text/plain": [
       "(28134, 8)"
      ]
     },
     "execution_count": 13,
     "metadata": {},
     "output_type": "execute_result"
    }
   ],
   "source": [
    "right.shape"
   ]
  },
  {
   "cell_type": "code",
   "execution_count": 14,
   "metadata": {},
   "outputs": [
    {
     "data": {
      "text/html": [
       "<div>\n",
       "<style scoped>\n",
       "    .dataframe tbody tr th:only-of-type {\n",
       "        vertical-align: middle;\n",
       "    }\n",
       "\n",
       "    .dataframe tbody tr th {\n",
       "        vertical-align: top;\n",
       "    }\n",
       "\n",
       "    .dataframe thead th {\n",
       "        text-align: right;\n",
       "    }\n",
       "</style>\n",
       "<table border=\"1\" class=\"dataframe\">\n",
       "  <thead>\n",
       "    <tr style=\"text-align: right;\">\n",
       "      <th></th>\n",
       "      <th>key_geneID</th>\n",
       "      <th>value_geneID</th>\n",
       "      <th>key_biotype</th>\n",
       "      <th>value_biotype</th>\n",
       "      <th>key_dsp</th>\n",
       "      <th>value_dsp</th>\n",
       "      <th>key_geneid</th>\n",
       "      <th>value_geneid</th>\n",
       "    </tr>\n",
       "  </thead>\n",
       "  <tbody>\n",
       "    <tr>\n",
       "      <th>8</th>\n",
       "      <td>ID=gene</td>\n",
       "      <td>Os01g0100700</td>\n",
       "      <td>Name</td>\n",
       "      <td>RPS5</td>\n",
       "      <td>biotype</td>\n",
       "      <td>protein_coding</td>\n",
       "      <td>description</td>\n",
       "      <td>Similar to 40S ribosomal protein S5-1</td>\n",
       "    </tr>\n",
       "    <tr>\n",
       "      <th>10</th>\n",
       "      <td>ID=gene</td>\n",
       "      <td>Os01g0100900</td>\n",
       "      <td>Name</td>\n",
       "      <td>SPL1</td>\n",
       "      <td>biotype</td>\n",
       "      <td>protein_coding</td>\n",
       "      <td>description</td>\n",
       "      <td>Sphingosine-1-phosphate lyase%2C Disease resis...</td>\n",
       "    </tr>\n",
       "    <tr>\n",
       "      <th>16</th>\n",
       "      <td>ID=gene</td>\n",
       "      <td>Os01g0101700</td>\n",
       "      <td>Name</td>\n",
       "      <td>OsDjC1</td>\n",
       "      <td>biotype</td>\n",
       "      <td>protein_coding</td>\n",
       "      <td>description</td>\n",
       "      <td>Similar to chaperone protein dnaJ 20</td>\n",
       "    </tr>\n",
       "    <tr>\n",
       "      <th>20</th>\n",
       "      <td>ID=gene</td>\n",
       "      <td>Os01g0102000</td>\n",
       "      <td>Name</td>\n",
       "      <td>OsNPC6</td>\n",
       "      <td>biotype</td>\n",
       "      <td>protein_coding</td>\n",
       "      <td>description</td>\n",
       "      <td>Phosphoesterase family protein</td>\n",
       "    </tr>\n",
       "    <tr>\n",
       "      <th>21</th>\n",
       "      <td>ID=gene</td>\n",
       "      <td>Os01g0102300</td>\n",
       "      <td>Name</td>\n",
       "      <td>OsTLP27</td>\n",
       "      <td>biotype</td>\n",
       "      <td>protein_coding</td>\n",
       "      <td>description</td>\n",
       "      <td>Thylakoid lumen protein%2C Photosynthesis and ...</td>\n",
       "    </tr>\n",
       "  </tbody>\n",
       "</table>\n",
       "</div>"
      ],
      "text/plain": [
       "   key_geneID  value_geneID key_biotype value_biotype  key_dsp  \\\n",
       "8     ID=gene  Os01g0100700        Name          RPS5  biotype   \n",
       "10    ID=gene  Os01g0100900        Name          SPL1  biotype   \n",
       "16    ID=gene  Os01g0101700        Name        OsDjC1  biotype   \n",
       "20    ID=gene  Os01g0102000        Name        OsNPC6  biotype   \n",
       "21    ID=gene  Os01g0102300        Name       OsTLP27  biotype   \n",
       "\n",
       "         value_dsp   key_geneid  \\\n",
       "8   protein_coding  description   \n",
       "10  protein_coding  description   \n",
       "16  protein_coding  description   \n",
       "20  protein_coding  description   \n",
       "21  protein_coding  description   \n",
       "\n",
       "                                         value_geneid  \n",
       "8               Similar to 40S ribosomal protein S5-1  \n",
       "10  Sphingosine-1-phosphate lyase%2C Disease resis...  \n",
       "16               Similar to chaperone protein dnaJ 20  \n",
       "20                     Phosphoesterase family protein  \n",
       "21  Thylakoid lumen protein%2C Photosynthesis and ...  "
      ]
     },
     "execution_count": 14,
     "metadata": {},
     "output_type": "execute_result"
    }
   ],
   "source": [
    "left.head()"
   ]
  },
  {
   "cell_type": "code",
   "execution_count": 15,
   "metadata": {},
   "outputs": [
    {
     "data": {
      "text/plain": [
       "(9718, 8)"
      ]
     },
     "execution_count": 15,
     "metadata": {},
     "output_type": "execute_result"
    }
   ],
   "source": [
    "left.shape"
   ]
  },
  {
   "cell_type": "code",
   "execution_count": 16,
   "metadata": {},
   "outputs": [
    {
     "name": "stderr",
     "output_type": "stream",
     "text": [
      "/Users/sherlock/anaconda3/lib/python3.7/site-packages/ipykernel_launcher.py:5: SettingWithCopyWarning: \n",
      "A value is trying to be set on a copy of a slice from a DataFrame.\n",
      "Try using .loc[row_indexer,col_indexer] = value instead\n",
      "\n",
      "See the caveats in the documentation: https://pandas.pydata.org/pandas-docs/stable/user_guide/indexing.html#returning-a-view-versus-a-copy\n",
      "  \"\"\"\n"
     ]
    },
    {
     "data": {
      "text/html": [
       "<div>\n",
       "<style scoped>\n",
       "    .dataframe tbody tr th:only-of-type {\n",
       "        vertical-align: middle;\n",
       "    }\n",
       "\n",
       "    .dataframe tbody tr th {\n",
       "        vertical-align: top;\n",
       "    }\n",
       "\n",
       "    .dataframe thead th {\n",
       "        text-align: right;\n",
       "    }\n",
       "</style>\n",
       "<table border=\"1\" class=\"dataframe\">\n",
       "  <thead>\n",
       "    <tr style=\"text-align: right;\">\n",
       "      <th></th>\n",
       "      <th>GENE</th>\n",
       "      <th>BIOTYPE</th>\n",
       "      <th>DESCRIPTION</th>\n",
       "      <th>NAME</th>\n",
       "    </tr>\n",
       "  </thead>\n",
       "  <tbody>\n",
       "    <tr>\n",
       "      <th>0</th>\n",
       "      <td>Os01g0100100</td>\n",
       "      <td>protein_coding</td>\n",
       "      <td>RabGAP/TBC domain containing protein</td>\n",
       "      <td>NaN</td>\n",
       "    </tr>\n",
       "    <tr>\n",
       "      <th>1</th>\n",
       "      <td>Os01g0100200</td>\n",
       "      <td>protein_coding</td>\n",
       "      <td>Conserved hypothetical protein</td>\n",
       "      <td>NaN</td>\n",
       "    </tr>\n",
       "    <tr>\n",
       "      <th>2</th>\n",
       "      <td>Os01g0100300</td>\n",
       "      <td>protein_coding</td>\n",
       "      <td>Cytochrome P450 domain containing protein</td>\n",
       "      <td>NaN</td>\n",
       "    </tr>\n",
       "    <tr>\n",
       "      <th>3</th>\n",
       "      <td>Os01g0100400</td>\n",
       "      <td>protein_coding</td>\n",
       "      <td>Similar to Pectinesterase-like protein</td>\n",
       "      <td>NaN</td>\n",
       "    </tr>\n",
       "    <tr>\n",
       "      <th>4</th>\n",
       "      <td>Os01g0100466</td>\n",
       "      <td>protein_coding</td>\n",
       "      <td>Hypothetical protein</td>\n",
       "      <td>NaN</td>\n",
       "    </tr>\n",
       "  </tbody>\n",
       "</table>\n",
       "</div>"
      ],
      "text/plain": [
       "           GENE         BIOTYPE                                DESCRIPTION  \\\n",
       "0  Os01g0100100  protein_coding       RabGAP/TBC domain containing protein   \n",
       "1  Os01g0100200  protein_coding             Conserved hypothetical protein   \n",
       "2  Os01g0100300  protein_coding  Cytochrome P450 domain containing protein   \n",
       "3  Os01g0100400  protein_coding     Similar to Pectinesterase-like protein   \n",
       "4  Os01g0100466  protein_coding                       Hypothetical protein   \n",
       "\n",
       "   NAME  \n",
       "0   NaN  \n",
       "1   NaN  \n",
       "2   NaN  \n",
       "3   NaN  \n",
       "4   NaN  "
      ]
     },
     "execution_count": 16,
     "metadata": {},
     "output_type": "execute_result"
    }
   ],
   "source": [
    "# right 的 geneID，biotype 和 description（description 里混入了 111 个 geneid，但无伤大雅）都相符\n",
    "# 只需再增加一列 NAME 赋空值，稍后与 left 合并即可\n",
    "right_value = right[[\"value_geneID\",\"value_biotype\",\"value_dsp\"]]\n",
    "right_value.columns = [\"GENE\",\"BIOTYPE\",\"DESCRIPTION\"]\n",
    "right_value[\"NAME\"] = np.nan\n",
    "right_value.head()"
   ]
  },
  {
   "cell_type": "code",
   "execution_count": 17,
   "metadata": {},
   "outputs": [
    {
     "data": {
      "text/html": [
       "<div>\n",
       "<style scoped>\n",
       "    .dataframe tbody tr th:only-of-type {\n",
       "        vertical-align: middle;\n",
       "    }\n",
       "\n",
       "    .dataframe tbody tr th {\n",
       "        vertical-align: top;\n",
       "    }\n",
       "\n",
       "    .dataframe thead th {\n",
       "        text-align: right;\n",
       "    }\n",
       "</style>\n",
       "<table border=\"1\" class=\"dataframe\">\n",
       "  <thead>\n",
       "    <tr style=\"text-align: right;\">\n",
       "      <th></th>\n",
       "      <th>GENE</th>\n",
       "      <th>BIOTYPE</th>\n",
       "      <th>DESCRIPTION</th>\n",
       "      <th>NAME</th>\n",
       "    </tr>\n",
       "  </thead>\n",
       "  <tbody>\n",
       "    <tr>\n",
       "      <th>8</th>\n",
       "      <td>Os01g0100700</td>\n",
       "      <td>protein_coding</td>\n",
       "      <td>Similar to 40S ribosomal protein S5-1</td>\n",
       "      <td>RPS5</td>\n",
       "    </tr>\n",
       "    <tr>\n",
       "      <th>10</th>\n",
       "      <td>Os01g0100900</td>\n",
       "      <td>protein_coding</td>\n",
       "      <td>Sphingosine-1-phosphate lyase%2C Disease resis...</td>\n",
       "      <td>SPL1</td>\n",
       "    </tr>\n",
       "    <tr>\n",
       "      <th>16</th>\n",
       "      <td>Os01g0101700</td>\n",
       "      <td>protein_coding</td>\n",
       "      <td>Similar to chaperone protein dnaJ 20</td>\n",
       "      <td>OsDjC1</td>\n",
       "    </tr>\n",
       "    <tr>\n",
       "      <th>20</th>\n",
       "      <td>Os01g0102000</td>\n",
       "      <td>protein_coding</td>\n",
       "      <td>Phosphoesterase family protein</td>\n",
       "      <td>OsNPC6</td>\n",
       "    </tr>\n",
       "    <tr>\n",
       "      <th>21</th>\n",
       "      <td>Os01g0102300</td>\n",
       "      <td>protein_coding</td>\n",
       "      <td>Thylakoid lumen protein%2C Photosynthesis and ...</td>\n",
       "      <td>OsTLP27</td>\n",
       "    </tr>\n",
       "  </tbody>\n",
       "</table>\n",
       "</div>"
      ],
      "text/plain": [
       "            GENE         BIOTYPE  \\\n",
       "8   Os01g0100700  protein_coding   \n",
       "10  Os01g0100900  protein_coding   \n",
       "16  Os01g0101700  protein_coding   \n",
       "20  Os01g0102000  protein_coding   \n",
       "21  Os01g0102300  protein_coding   \n",
       "\n",
       "                                          DESCRIPTION     NAME  \n",
       "8               Similar to 40S ribosomal protein S5-1     RPS5  \n",
       "10  Sphingosine-1-phosphate lyase%2C Disease resis...     SPL1  \n",
       "16               Similar to chaperone protein dnaJ 20   OsDjC1  \n",
       "20                     Phosphoesterase family protein   OsNPC6  \n",
       "21  Thylakoid lumen protein%2C Photosynthesis and ...  OsTLP27  "
      ]
     },
     "execution_count": 17,
     "metadata": {},
     "output_type": "execute_result"
    }
   ],
   "source": [
    "# left 的 biotype 列其实是 name，description 列其实是 biotype，这些错位之处通过更改列名的方式即可纠正\n",
    "left_value = left[[\"value_geneID\",\"value_dsp\",\"value_geneid\",\"value_biotype\"]]\n",
    "left_value.columns = [\"GENE\",\"BIOTYPE\",\"DESCRIPTION\",\"NAME\"]\n",
    "left_value.head()"
   ]
  },
  {
   "cell_type": "code",
   "execution_count": 18,
   "metadata": {},
   "outputs": [
    {
     "data": {
      "text/html": [
       "<div>\n",
       "<style scoped>\n",
       "    .dataframe tbody tr th:only-of-type {\n",
       "        vertical-align: middle;\n",
       "    }\n",
       "\n",
       "    .dataframe tbody tr th {\n",
       "        vertical-align: top;\n",
       "    }\n",
       "\n",
       "    .dataframe thead th {\n",
       "        text-align: right;\n",
       "    }\n",
       "</style>\n",
       "<table border=\"1\" class=\"dataframe\">\n",
       "  <thead>\n",
       "    <tr style=\"text-align: right;\">\n",
       "      <th></th>\n",
       "      <th>GENE</th>\n",
       "      <th>NAME</th>\n",
       "      <th>BIOTYPE</th>\n",
       "      <th>DESCRIPTION</th>\n",
       "    </tr>\n",
       "  </thead>\n",
       "  <tbody>\n",
       "    <tr>\n",
       "      <th>0</th>\n",
       "      <td>Os01g0100100</td>\n",
       "      <td>NaN</td>\n",
       "      <td>protein_coding</td>\n",
       "      <td>RabGAP/TBC domain containing protein</td>\n",
       "    </tr>\n",
       "    <tr>\n",
       "      <th>1</th>\n",
       "      <td>Os01g0100200</td>\n",
       "      <td>NaN</td>\n",
       "      <td>protein_coding</td>\n",
       "      <td>Conserved hypothetical protein</td>\n",
       "    </tr>\n",
       "    <tr>\n",
       "      <th>2</th>\n",
       "      <td>Os01g0100300</td>\n",
       "      <td>NaN</td>\n",
       "      <td>protein_coding</td>\n",
       "      <td>Cytochrome P450 domain containing protein</td>\n",
       "    </tr>\n",
       "    <tr>\n",
       "      <th>3</th>\n",
       "      <td>Os01g0100400</td>\n",
       "      <td>NaN</td>\n",
       "      <td>protein_coding</td>\n",
       "      <td>Similar to Pectinesterase-like protein</td>\n",
       "    </tr>\n",
       "    <tr>\n",
       "      <th>4</th>\n",
       "      <td>Os01g0100466</td>\n",
       "      <td>NaN</td>\n",
       "      <td>protein_coding</td>\n",
       "      <td>Hypothetical protein</td>\n",
       "    </tr>\n",
       "  </tbody>\n",
       "</table>\n",
       "</div>"
      ],
      "text/plain": [
       "           GENE NAME         BIOTYPE  \\\n",
       "0  Os01g0100100  NaN  protein_coding   \n",
       "1  Os01g0100200  NaN  protein_coding   \n",
       "2  Os01g0100300  NaN  protein_coding   \n",
       "3  Os01g0100400  NaN  protein_coding   \n",
       "4  Os01g0100466  NaN  protein_coding   \n",
       "\n",
       "                                 DESCRIPTION  \n",
       "0       RabGAP/TBC domain containing protein  \n",
       "1             Conserved hypothetical protein  \n",
       "2  Cytochrome P450 domain containing protein  \n",
       "3     Similar to Pectinesterase-like protein  \n",
       "4                       Hypothetical protein  "
      ]
     },
     "execution_count": 18,
     "metadata": {},
     "output_type": "execute_result"
    }
   ],
   "source": [
    "# 将 right 和 left 合并即完整的基因注释\n",
    "osa_gene_anno = pd.concat([right_value,left_value])\n",
    "osa_gene_anno = osa_gene_anno.sort_values(\"GENE\")\n",
    "osa_gene_anno = osa_gene_anno[[\"GENE\",\"NAME\",\"BIOTYPE\",\"DESCRIPTION\"]]\n",
    "osa_gene_anno.head()"
   ]
  },
  {
   "cell_type": "code",
   "execution_count": 19,
   "metadata": {},
   "outputs": [
    {
     "data": {
      "text/html": [
       "<div>\n",
       "<style scoped>\n",
       "    .dataframe tbody tr th:only-of-type {\n",
       "        vertical-align: middle;\n",
       "    }\n",
       "\n",
       "    .dataframe tbody tr th {\n",
       "        vertical-align: top;\n",
       "    }\n",
       "\n",
       "    .dataframe thead th {\n",
       "        text-align: right;\n",
       "    }\n",
       "</style>\n",
       "<table border=\"1\" class=\"dataframe\">\n",
       "  <thead>\n",
       "    <tr style=\"text-align: right;\">\n",
       "      <th></th>\n",
       "      <th>GENE</th>\n",
       "      <th>NAME</th>\n",
       "      <th>BIOTYPE</th>\n",
       "      <th>DESCRIPTION</th>\n",
       "    </tr>\n",
       "  </thead>\n",
       "  <tbody>\n",
       "    <tr>\n",
       "      <th>14637</th>\n",
       "      <td>Os02g0633700</td>\n",
       "      <td>OsPP2C23</td>\n",
       "      <td>protein_coding</td>\n",
       "      <td>Similar to T-cell activation protein phosphata...</td>\n",
       "    </tr>\n",
       "    <tr>\n",
       "      <th>262</th>\n",
       "      <td>Os01g0129200</td>\n",
       "      <td>SL1</td>\n",
       "      <td>protein_coding</td>\n",
       "      <td>C2H2 zinc-finger transcription factor%2C Flora...</td>\n",
       "    </tr>\n",
       "    <tr>\n",
       "      <th>11640</th>\n",
       "      <td>Os12g0595200</td>\n",
       "      <td>Os_F0776</td>\n",
       "      <td>protein_coding</td>\n",
       "      <td>Similar to F-box domain containing protein</td>\n",
       "    </tr>\n",
       "    <tr>\n",
       "      <th>25233</th>\n",
       "      <td>Os05g0328000</td>\n",
       "      <td>NaN</td>\n",
       "      <td>protein_coding</td>\n",
       "      <td>Hypothetical protein</td>\n",
       "    </tr>\n",
       "    <tr>\n",
       "      <th>11436</th>\n",
       "      <td>Os12g0562600</td>\n",
       "      <td>NaN</td>\n",
       "      <td>protein_coding</td>\n",
       "      <td>Similar to Protein kinase</td>\n",
       "    </tr>\n",
       "  </tbody>\n",
       "</table>\n",
       "</div>"
      ],
      "text/plain": [
       "               GENE      NAME         BIOTYPE  \\\n",
       "14637  Os02g0633700  OsPP2C23  protein_coding   \n",
       "262    Os01g0129200       SL1  protein_coding   \n",
       "11640  Os12g0595200  Os_F0776  protein_coding   \n",
       "25233  Os05g0328000       NaN  protein_coding   \n",
       "11436  Os12g0562600       NaN  protein_coding   \n",
       "\n",
       "                                             DESCRIPTION  \n",
       "14637  Similar to T-cell activation protein phosphata...  \n",
       "262    C2H2 zinc-finger transcription factor%2C Flora...  \n",
       "11640         Similar to F-box domain containing protein  \n",
       "25233                               Hypothetical protein  \n",
       "11436                          Similar to Protein kinase  "
      ]
     },
     "execution_count": 19,
     "metadata": {},
     "output_type": "execute_result"
    }
   ],
   "source": [
    "# 随机查看其中 5 行\n",
    "osa_gene_anno.sample(5)"
   ]
  },
  {
   "cell_type": "code",
   "execution_count": 20,
   "metadata": {},
   "outputs": [],
   "source": [
    "# 保存到本地\n",
    "savepath = wd + \"Oryza_sativa_gene_anno.gff3\"\n",
    "osa_gene_anno.to_csv(savepath,index=None,sep=\"\\t\")"
   ]
  }
 ],
 "metadata": {
  "kernelspec": {
   "display_name": "Python 3",
   "language": "python",
   "name": "python3"
  },
  "language_info": {
   "codemirror_mode": {
    "name": "ipython",
    "version": 3
   },
   "file_extension": ".py",
   "mimetype": "text/x-python",
   "name": "python",
   "nbconvert_exporter": "python",
   "pygments_lexer": "ipython3",
   "version": "3.7.1"
  }
 },
 "nbformat": 4,
 "nbformat_minor": 2
}
